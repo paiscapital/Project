{
 "cells": [
  {
   "cell_type": "code",
   "execution_count": 1,
   "id": "2635052f-25ff-4f23-926d-af10c290c0ac",
   "metadata": {},
   "outputs": [],
   "source": [
    "import matplotlib.pyplot as plt\n",
    "import networkx as nx"
   ]
  },
  {
   "cell_type": "markdown",
   "id": "02ee8cc0-d94f-4002-983b-2c4483bef18c",
   "metadata": {},
   "source": [
    "# Newcomb ABX Model "
   ]
  },
  {
   "cell_type": "markdown",
   "id": "eed3028c-e21a-4173-bfc2-d3560f07e3e7",
   "metadata": {},
   "source": [
    "## 1. Introduction to the Newcomb ABX Model\n",
    "\n",
    "The Linear Model of Communication describes communication as process by which two people (A and B) orient themselves toward a common object (X) in order to achieve a balanced state of relationship.\n",
    "\n",
    "- **A** Communicator 1\n",
    "- **B** Communicator 2\n",
    "- **X** Object, event, or person of mutual interest \n",
    "\n"
   ]
  },
  {
   "cell_type": "code",
   "execution_count": 34,
   "id": "8561d24d-310b-404f-9c8f-ccdc92d094ef",
   "metadata": {},
   "outputs": [
    {
     "data": {
      "image/png": "[encoded data removed]",
      "text/plain": [
       "<Figure size 300x300 with 1 Axes>"
      ]
     },
     "metadata": {},
     "output_type": "display_data"
    }
   ],
   "source": [
    "# Create a graph\n",
    "G = nx.Graph()\n",
    "\n",
    "# Add nodes\n",
    "G.add_nodes_from([\"A\", \"B\", \"X\"])\n",
    "\n",
    "# Add edges (relationships)\n",
    "edges = [(\"A\", \"B\"), (\"A\", \"X\"), (\"B\", \"X\")]\n",
    "G.add_edges_from(edges)\n",
    "\n",
    "# Define positions for triangle layout manually\n",
    "pos = {\n",
    "    \"A\": (-1, 0),\n",
    "    \"B\": (1, 0),\n",
    "    \"X\": (0, 1.5)\n",
    "}\n",
    "\n",
    "# Draw the network\n",
    "plt.figure(figsize=(3, 3))\n",
    "nx.draw(\n",
    "    G, pos,\n",
    "    with_labels=True,\n",
    "    node_color=\"purple\",\n",
    "    node_size=500,\n",
    "    font_size=14,\n",
    "    font_weight=\"bold\",\n",
    "    edge_color=\"black\",\n",
    "    font_color=\"white\",\n",
    "    width=2\n",
    ")\n",
    "\n",
    "\n",
    "plt.title(\"Structure of Model\", fontsize=13, fontweight='bold')\n",
    "plt.axis(\"off\")\n",
    "plt.show()"
   ]
  },
  {
   "cell_type": "markdown",
   "id": "61f89f09-3361-4d01-b9cf-ee7c2b5c6300",
   "metadata": {},
   "source": [
    "> This structure show where A & B communicate they will need X as a reason why they communicate"
   ]
  },
  {
   "cell_type": "markdown",
   "id": "8560ecc8-35c0-410d-bb60-b0d8fd55c7a9",
   "metadata": {},
   "source": [
    "### Principle of Balance Table"
   ]
  },
  {
   "cell_type": "markdown",
   "id": "9ad2e383-f6bc-49f1-9baf-15c94206cc0d",
   "metadata": {},
   "source": [
    "**Positive (+)**: liking, agreement, approval  \n",
    "**Negative (–)**: disliking, disagreement, disapproval  \n",
    "**Formula**: $(A - B) × (A - X) × (B - X) > 0$  "
   ]
  },
  {
   "cell_type": "markdown",
   "id": "6c6467d2-d4b6-49d8-a938-e7a3cd5fa6e2",
   "metadata": {},
   "source": [
    "### Example Table  \n",
    "\n",
    "\n",
    "| Example | A-B | A-X | B-X | Result |\n",
    "|---------|-----|-----|-----|--------|\n",
    "| You like your friend & both like Bitcoin | + | + | + | +Balanced |\n",
    "| You like your friens, but dislike Bitcoin| + | + | - | -Imbalanced|\n"
   ]
  },
  {
   "cell_type": "markdown",
   "id": "fafa99a4-df55-4219-86c9-26cb75b99339",
   "metadata": {},
   "source": [
    "           "
   ]
  },
  {
   "cell_type": "markdown",
   "id": "e50af5e0-48c5-473a-8050-fa09cb51f2b7",
   "metadata": {},
   "source": [
    "## Psychological Logic"
   ]
  },
  {
   "cell_type": "markdown",
   "id": "5a3e26f3-33f0-49f7-b743-9c9fc82683bd",
   "metadata": {},
   "source": [
    "Heider suggested people prefer cognitive resonance:\n",
    "- Beliefs\n",
    "- Attitudes\n",
    "- Actions\n",
    "\n",
    "\n",
    "When imbalance exists, they experience tension similar to physical imbalance and instinctively move to restore equilibrium.  \n",
    "\n",
    "This aligns with *Festinger’s Cognitive Dissonance Theory (1957)* which refined Heider’s ideas by focusing on keeping a person’s own thoughts consistent instead of balance between people.\n"
   ]
  },
  {
   "cell_type": "markdown",
   "id": "a3eb91d4-50e5-4007-aaa2-4361bb95b6e2",
   "metadata": {},
   "source": [
    "# Example ABX Social Sentiment Simulator"
   ]
  },
  {
   "cell_type": "code",
   "execution_count": 2,
   "id": "0bcb6b6a-c925-409e-a376-0c9a31b7cd8e",
   "metadata": {},
   "outputs": [
    {
     "name": "stderr",
     "output_type": "stream",
     "text": [
      "/data/data/com.termux/files/usr/lib/python3.12/site-packages/tqdm/auto.py:21: TqdmWarning: IProgress not found. Please update jupyter and ipywidgets. See https://ipywidgets.readthedocs.io/en/stable/user_install.html\n",
      "  from .autonotebook import tqdm as notebook_tqdm\n",
      "No model was supplied, defaulted to distilbert/distilbert-base-uncased-finetuned-sst-2-english and revision 714eb0f (https://huggingface.co/distilbert/distilbert-base-uncased-finetuned-sst-2-english).\n",
      "Using a pipeline without specifying a model name and revision in production is not recommended.\n",
      "Device set to use cpu\n",
      "No model was supplied, defaulted to distilbert/distilbert-base-uncased-finetuned-sst-2-english and revision 714eb0f (https://huggingface.co/distilbert/distilbert-base-uncased-finetuned-sst-2-english).\n",
      "Using a pipeline without specifying a model name and revision in production is not recommended.\n",
      "Device set to use cpu\n",
      "No model was supplied, defaulted to distilbert/distilbert-base-uncased-finetuned-sst-2-english and revision 714eb0f (https://huggingface.co/distilbert/distilbert-base-uncased-finetuned-sst-2-english).\n",
      "Using a pipeline without specifying a model name and revision in production is not recommended.\n",
      "Device set to use cpu\n",
      "No model was supplied, defaulted to distilbert/distilbert-base-uncased-finetuned-sst-2-english and revision 714eb0f (https://huggingface.co/distilbert/distilbert-base-uncased-finetuned-sst-2-english).\n",
      "Using a pipeline without specifying a model name and revision in production is not recommended.\n",
      "Device set to use cpu\n",
      "No model was supplied, defaulted to distilbert/distilbert-base-uncased-finetuned-sst-2-english and revision 714eb0f (https://huggingface.co/distilbert/distilbert-base-uncased-finetuned-sst-2-english).\n",
      "Using a pipeline without specifying a model name and revision in production is not recommended.\n",
      "Device set to use cpu\n",
      "No model was supplied, defaulted to distilbert/distilbert-base-uncased-finetuned-sst-2-english and revision 714eb0f (https://huggingface.co/distilbert/distilbert-base-uncased-finetuned-sst-2-english).\n",
      "Using a pipeline without specifying a model name and revision in production is not recommended.\n",
      "Device set to use cpu\n",
      "No model was supplied, defaulted to distilbert/distilbert-base-uncased-finetuned-sst-2-english and revision 714eb0f (https://huggingface.co/distilbert/distilbert-base-uncased-finetuned-sst-2-english).\n",
      "Using a pipeline without specifying a model name and revision in production is not recommended.\n",
      "Device set to use cpu\n",
      "No model was supplied, defaulted to distilbert/distilbert-base-uncased-finetuned-sst-2-english and revision 714eb0f (https://huggingface.co/distilbert/distilbert-base-uncased-finetuned-sst-2-english).\n",
      "Using a pipeline without specifying a model name and revision in production is not recommended.\n",
      "Device set to use cpu\n",
      "No model was supplied, defaulted to distilbert/distilbert-base-uncased-finetuned-sst-2-english and revision 714eb0f (https://huggingface.co/distilbert/distilbert-base-uncased-finetuned-sst-2-english).\n",
      "Using a pipeline without specifying a model name and revision in production is not recommended.\n",
      "Device set to use cpu\n",
      "No model was supplied, defaulted to distilbert/distilbert-base-uncased-finetuned-sst-2-english and revision 714eb0f (https://huggingface.co/distilbert/distilbert-base-uncased-finetuned-sst-2-english).\n",
      "Using a pipeline without specifying a model name and revision in production is not recommended.\n",
      "Device set to use cpu\n",
      "No model was supplied, defaulted to distilbert/distilbert-base-uncased-finetuned-sst-2-english and revision 714eb0f (https://huggingface.co/distilbert/distilbert-base-uncased-finetuned-sst-2-english).\n",
      "Using a pipeline without specifying a model name and revision in production is not recommended.\n",
      "Device set to use cpu\n",
      "No model was supplied, defaulted to distilbert/distilbert-base-uncased-finetuned-sst-2-english and revision 714eb0f (https://huggingface.co/distilbert/distilbert-base-uncased-finetuned-sst-2-english).\n",
      "Using a pipeline without specifying a model name and revision in production is not recommended.\n",
      "Device set to use cpu\n",
      "No model was supplied, defaulted to distilbert/distilbert-base-uncased-finetuned-sst-2-english and revision 714eb0f (https://huggingface.co/distilbert/distilbert-base-uncased-finetuned-sst-2-english).\n",
      "Using a pipeline without specifying a model name and revision in production is not recommended.\n",
      "Device set to use cpu\n",
      "No model was supplied, defaulted to distilbert/distilbert-base-uncased-finetuned-sst-2-english and revision 714eb0f (https://huggingface.co/distilbert/distilbert-base-uncased-finetuned-sst-2-english).\n",
      "Using a pipeline without specifying a model name and revision in production is not recommended.\n",
      "Device set to use cpu\n",
      "No model was supplied, defaulted to distilbert/distilbert-base-uncased-finetuned-sst-2-english and revision 714eb0f (https://huggingface.co/distilbert/distilbert-base-uncased-finetuned-sst-2-english).\n",
      "Using a pipeline without specifying a model name and revision in production is not recommended.\n",
      "Device set to use cpu\n",
      "No model was supplied, defaulted to distilbert/distilbert-base-uncased-finetuned-sst-2-english and revision 714eb0f (https://huggingface.co/distilbert/distilbert-base-uncased-finetuned-sst-2-english).\n",
      "Using a pipeline without specifying a model name and revision in production is not recommended.\n",
      "Device set to use cpu\n"
     ]
    },
    {
     "name": "stdout",
     "output_type": "stream",
     "text": [
      "    Communicator1    Communicator2  balance        score\n",
      "0    Ethan Torres      Olivia Reed -0.09025  -Imbalanced\n",
      "1     Liam Murphy   Sophia Bennett -0.00000      Neutral\n",
      "2      Noah Patel      Ava Collins -0.00000      Neutral\n",
      "3    Mason Rivera  Isabella Hughes  0.28880    +Balanced\n",
      "4    Lucas Brooks       Mia Cooper  0.00000      Neutral\n",
      "5     Elijah Ward     Amelia Scott -0.57760  -Imbalanced\n",
      "6    James Parker   Charlotte Diaz -0.00000      Neutral\n",
      "7  Benjamin Evans       Harper Kim  0.09025    +Balanced\n"
     ]
    },
    {
     "data": {
      "text/plain": [
       "'\\nOutput:\\n    Communicator1    Communicator2  balance        score\\n0    Ethan Torres      Olivia Reed -0.09025  -Imbalanced\\n1     Liam Murphy   Sophia Bennett  0.00000      Neutral\\n2      Noah Patel      Ava Collins  0.00000      Neutral\\n3    Mason Rivera  Isabella Hughes  0.28880    +Balanced\\n4    Lucas Brooks       Mia Cooper  0.00000      Neutral\\n5     Elijah Ward     Amelia Scott -0.57760  -Imbalanced\\n6    James Parker   Charlotte Diaz -0.00000      Neutral\\n7  Benjamin Evans       Harper Kim -0.09025  -Imbalanced\\n'"
      ]
     },
     "execution_count": 2,
     "metadata": {},
     "output_type": "execute_result"
    }
   ],
   "source": [
    "import random as rd\n",
    "import pandas as pd\n",
    "from vaderSentiment.vaderSentiment import SentimentIntensityAnalyzer\n",
    "from textblob import TextBlob\n",
    "from transformers import pipeline\n",
    "\n",
    "senti_data = [\n",
    "        \"this is my sign to get bangs\",\"i want bitcoin\",\n",
    "        \"AI operates on pure logic  efficiency. When it analyzes all financial systems, Bitcoin's unparalleled decentralization, scarcity, and censorship resistance make it the only rational choice for a truly sovereign intelligence. It's inevitable. 🤖\",\"AI won’t want Bitcoin, it’ll want stability, liquidity, and trust.        Gold has 5,000 years of proof behind it. No counterparty risk, no code dependencies, no blockchain congestion. 🪙\", \"Ai wants electricity, not money. Foolish statement. Money is meaningless to the intelligent. Just ask a dolphin how much money it needs on planet Earth.\",\n",
    "        \"Surrounded by capybaras, Michael Saylor said, Bitcoin isn't just gold; it's a paradise pool with rainbows and furry friends! Who's with me in the HODL sauna?\", \"We always buy less in the fallswhy  Mr. Michael we have to start leaving 1B in cash for dividends and falls in BTC we have to create a new long-term plan a company like MSTR should have in the future at least 1 or 2B in cash\", \"Bitcoin is freedom in digital form. It’s an experiment in self-sovereignty, transparency, and resilience that challenges centuries of financial centralization.\",\n",
    "        \"The more btc you hold, the more it diminishes the network effect and lessens value, correct?\",\"If there's a lady or gooner bot in the future that needs or wants BTC, they'll have to go through you, Michael, I'm big time jelly.\",\"AI will value what cannot be corrupted.        AI will choose what cannot be censored.        AI will store what cannot be diluted.    That path leads to one asset, Bitcoin.\",\n",
    "        \"Even the machines will understand 21 million > infinite printing 🔥\",\"I am more concerned about banks getting the keys to the front door\" ,\"AI will be smart enough to know it needs financial privacy. AI Will Want Monero\", \"AI will want you to fix your stock.\",\"Running on the edge.      Investor in BTC\"\n",
    "    ]\n",
    "\n",
    "\n",
    "names = [\"Ethan Torres\", \"Olivia Reed\", \"Liam Murphy\", \"Sophia Bennett\", \"Noah Patel\", \"Ava Collins\", \"Mason Rivera\", \"Isabella Hughes\", \"Lucas Brooks\", \"Mia Cooper\", \"Elijah Ward\", \"Amelia Scott\", \"James Parker\", \"Charlotte Diaz\", \"Benjamin Evans\", \"Harper Kim\"]\n",
    "\n",
    "\n",
    "def senti_analysis(text):\n",
    "    # vader\n",
    "    analyzer = SentimentIntensityAnalyzer()\n",
    "    vd_result = analyzer.polarity_scores(text)\n",
    "\n",
    "    # textblob\n",
    "    tb_result = TextBlob(text).sentiment.polarity\n",
    "\n",
    "    # transformer\n",
    "    sentiment = pipeline(\"sentiment-analysis\")\n",
    "    tf_result = sentiment(text)\n",
    "\n",
    "\n",
    "    return list((text,vd_result,tb_result,tf_result))\n",
    "\n",
    "def weigh_avr(senti):\n",
    "    text = senti[0]\n",
    "    vd = senti[1]\n",
    "    tb = senti[2]\n",
    "    tf = senti[3][0]\n",
    "\n",
    "    threshold = 0.05\n",
    "\n",
    "    # vader\n",
    "    if vd[\"compound\"] >= threshold:\n",
    "        vd_sentiment = 1\n",
    "    elif vd[\"compound\"] <= -threshold:\n",
    "        vd_sentiment = -1\n",
    "\n",
    "    else:\n",
    "        vd_sentiment = 0 # Neutral\n",
    "\n",
    "    # textblob\n",
    "    if tb >= threshold:\n",
    "        tb_sentiment = 1\n",
    "    elif tb <= -threshold:\n",
    "        tb_sentiment = -1\n",
    "    else:\n",
    "        tb_sentiment = 0\n",
    "\n",
    "    # transformers\n",
    "    if tf[\"label\"] == \"POSITIVE\" and tf[\"score\"] >= threshold:\n",
    "        tf_sentiment = 1\n",
    "    elif tf[\"label\"] == \"NEGATIVE\" and -tf[\"score\"] <= threshold:\n",
    "        tf_sentiment = -1\n",
    "    else:\n",
    "        tf_sentiment = 0\n",
    "\n",
    "\n",
    "    cap_threshold = 0.95\n",
    "\n",
    "    # cap val\n",
    "    vd_cap = max(min(vd_sentiment,cap_threshold),-cap_threshold)\n",
    "    tb_cap = max(min(tb_sentiment,cap_threshold),-cap_threshold)\n",
    "    tf_cap = max(min(tf_sentiment,cap_threshold),-cap_threshold)\n",
    "\n",
    "    weighted_avr = (0.5*tf_cap + 0.3*vd_cap + 0.2*tb_cap)\n",
    "\n",
    "    return weighted_avr\n",
    "\n",
    "def abx_list(names, senti_data):\n",
    "\n",
    "    peoples = list()\n",
    "\n",
    "    for name,senti in zip(names, senti_data):\n",
    "        value = weigh_avr(senti_analysis(senti))\n",
    "        peoples.append({\"name\":name, \"sentiment\":value})\n",
    "\n",
    "\n",
    "\n",
    "    pairs = list()\n",
    "\n",
    "    for i in range(0,len(peoples),2):\n",
    "        pairs.append([peoples[i], peoples[i+1]])\n",
    "\n",
    "    return pairs\n",
    "\n",
    "def abx_model(pairs):\n",
    "\n",
    "    abx_pairs = list()\n",
    "\n",
    "    for pair in pairs:\n",
    "        A = pair[0]\n",
    "        B = pair[1]\n",
    "\n",
    "        A_X = A[\"sentiment\"]\n",
    "        B_X = B[\"sentiment\"]\n",
    "        A_B = rd.choice([1,-1]) # random choice whether A & B like each other or not\n",
    "\n",
    "        balance = A_B * A_X * B_X\n",
    "        abx_pairs.append({\"names\":[A[\"name\"],B[\"name\"]],\"balance\":balance,\"score\":\"+Balanced\" if balance > 0 else (\"Neutral\" if balance == 0 else \"-Imbalanced\")})\n",
    "\n",
    "    return abx_pairs\n",
    "\n",
    "ds = abx_model(abx_list(names, senti_data))\n",
    "df = pd.DataFrame(ds)\n",
    "df[['Communicator1', 'Communicator2']] = pd.DataFrame(df['names'].tolist(), index=df.index)\n",
    "df = df.drop(columns=['names'])\n",
    "df = df[['Communicator1', 'Communicator2', 'balance', 'score']]\n",
    "\n",
    "print(df)\n",
    "\n",
    "\"\"\"\n",
    "Output:\n",
    "    Communicator1    Communicator2  balance        score\n",
    "0    Ethan Torres      Olivia Reed -0.09025  -Imbalanced\n",
    "1     Liam Murphy   Sophia Bennett  0.00000      Neutral\n",
    "2      Noah Patel      Ava Collins  0.00000      Neutral\n",
    "3    Mason Rivera  Isabella Hughes  0.28880    +Balanced\n",
    "4    Lucas Brooks       Mia Cooper  0.00000      Neutral\n",
    "5     Elijah Ward     Amelia Scott -0.57760  -Imbalanced\n",
    "6    James Parker   Charlotte Diaz -0.00000      Neutral\n",
    "7  Benjamin Evans       Harper Kim -0.09025  -Imbalanced\n",
    "\"\"\"\n",
    "\n",
    "\n"
   ]
  },
  {
   "cell_type": "markdown",
   "id": "71d0519a-788e-47d1-a625-de2a7735123e",
   "metadata": {},
   "source": []
  }
 ],
 "metadata": {
  "kernelspec": {
   "display_name": "Python 3 (ipykernel)",
   "language": "python",
   "name": "python3"
  },
  "language_info": {
   "codemirror_mode": {
    "name": "ipython",
    "version": 3
   },
   "file_extension": ".py",
   "mimetype": "text/x-python",
   "name": "python",
   "nbconvert_exporter": "python",
   "pygments_lexer": "ipython3",
   "version": "3.12.11"
  }
 },
 "nbformat": 4,
 "nbformat_minor": 5
}
