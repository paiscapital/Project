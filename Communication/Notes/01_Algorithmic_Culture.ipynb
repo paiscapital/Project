{
 "cells": [
  {
   "cell_type": "markdown",
   "id": "cadd171d-61eb-40df-afce-1510e8f5378c",
   "metadata": {},
   "source": [
    "# Algorithmic culture"
   ]
  },
  {
   "cell_type": "markdown",
   "id": "ea3c4392-cd63-4845-8239-c4f4de837fb0",
   "metadata": {},
   "source": [
    "the ways in which people’s encounters with culture are increasingly governed by automated, algorithmic processes — how algorithms select, prioritize, and shape cultural production, circulation, and reception.  \n",
    "\n",
    "Theoritical mechanism: \n",
    "> User → Behavior → Data Collection → Algorithmic Filtering →\n",
    "Recommendation / Ranking → Cultural Exposure → New Behavior → Feedback Loop\n"
   ]
  },
  {
   "cell_type": "markdown",
   "id": "d251d478-dcbc-4ce9-8337-c13a6b0bd873",
   "metadata": {},
   "source": [
    "| Stage | Function | Impact |\n",
    "|-------|----------|--------|\n",
    "| Data Capture | Track user history (views,likes,clicks) | Converts human experience into machine-readable form |\n",
    "| Extraction | Transform behavior into numerical vectors |  Creates abstract “profiles” of identity |\n",
    "| Filtering | Compute top-N content by similarity, engagement, or profit score | Defines what is “visible culture” (what trends) |\n",
    "| Recommendation | Output new cultural material (posts, music, videos) | Personalizes cultural reality |\n",
    "| Feedback | Feed user response back into model | Reinforces algorithmic worldview (How user like the content) |"
   ]
  },
  {
   "cell_type": "markdown",
   "id": "a8dc1405-cedf-4f0f-9e19-28d1ae6dce65",
   "metadata": {},
   "source": [
    "#### Example Logic code"
   ]
  },
  {
   "cell_type": "code",
   "execution_count": 47,
   "id": "66132fab-a5cc-406a-b8b1-6d3f3e40cae7",
   "metadata": {},
   "outputs": [
    {
     "name": "stdout",
     "output_type": "stream",
     "text": [
      "{'Faiz': ['finance', 'montecarlo', 'AI', 'philosopher'], 'Racheal': ['sandwich', 'spagheti', 'strawberry']}\n"
     ]
    }
   ],
   "source": [
    "import spacy\n",
    "from concurrent.futures import ThreadPoolExecutor\n",
    "\n",
    "# capture history -> convert it to word like finance ai -> list all the word -> from that list the give content type that match with the list\n",
    "history = {\n",
    "    'Faiz':[\n",
    "        \"how to use finance monte carlo\", \"how to calculate montecarlo\", \"AI video meme\", \"The best philosopher ever\"\n",
    "    ], # Finance ai philosophy\n",
    "    'Racheal':[\n",
    "        \"How to cook sandwich\", \"How to make a spagheti\", \"How to make strawberry juice\"\n",
    "    ] # cooking\n",
    "}\n",
    "\n",
    "nlp = spacy.load(\"en_core_web_sm\")\n",
    "\n",
    "def keyPoint(text):\n",
    "    proc = nlp(text)\n",
    "    token = [token for token in proc if token.pos_ in (\"NOUN\", \"PROPN\") and not token.is_stop]\n",
    "    if not token:\n",
    "        token = [token for token in proc if token.pos_ in (\"ADJ\", \"VERB\") and not toke.is_stop]\n",
    "\n",
    "    if token:\n",
    "        ranked = sorted(token, key=lambda t: (t.is_title, len(text)), reverse=True)\n",
    "        return ranked[0].lemma_\n",
    "\n",
    "    return None\n",
    "\n",
    "def convert_(history):\n",
    "    newHist = {}\n",
    "    with ThreadPoolExecutor() as execute:\n",
    "        for key, value in history.items():\n",
    "            newHist[key] = list(execute.map(keyPoint, value))\n",
    "\n",
    "    return newHist\n",
    "        \n",
    "        \n",
    "\n",
    "print(convert_(history))  "
   ]
  },
  {
   "cell_type": "markdown",
   "id": "cc13f43f-550a-49b3-977d-30ec1e569bc8",
   "metadata": {},
   "source": [
    "#### Example flow with Lasswell Model"
   ]
  },
  {
   "cell_type": "markdown",
   "id": "d5c64997-51a9-4483-8f9f-a5aa728bc6ca",
   "metadata": {},
   "source": [
    "| Element | classic | Algorithmic |\n",
    "|---------|---------|-------------|\n",
    "| Who/Sender | Human Communicator (Journalist, speaker) | Combining devs + AI + Models + Users history data |\n",
    "| Says What/Message | Crafted message (speech,article,image) | Dynamically generated content (feeds, recommendations) |\n",
    "| In which channel | TV, Radio, newspaper etc | Platform infrastructures (Tiktok algo, Youtube recommend,X Feed) |\n",
    "| To whom (Audience) | Passive receiver | Interacting, data-emitting users (History data) |\n",
    "| With what effect | Persuasion, knowledge, influence | Behavioral shaping, engagement loops, cultural feedback |"
   ]
  },
  {
   "cell_type": "markdown",
   "id": "f0939999-fb68-44c3-ab2d-be55ca9cc921",
   "metadata": {},
   "source": [
    "> [Data Producers/history (users)] → [Algorithmic Encoder] → [Digital Medium/channel/Platform]\n",
    "→ [Algorithmic Message Delivery] → [Personalized Receiver/Feed/FYP]\n",
    "→ [Behavioral Response / New Data] → feeds back to algorithm\n"
   ]
  },
  {
   "cell_type": "code",
   "execution_count": null,
   "id": "5530a7ce-30d8-4ea3-922a-bfac03baee0b",
   "metadata": {},
   "outputs": [],
   "source": []
  }
 ],
 "metadata": {
  "kernelspec": {
   "display_name": "Python 3 (ipykernel)",
   "language": "python",
   "name": "python3"
  },
  "language_info": {
   "codemirror_mode": {
    "name": "ipython",
    "version": 3
   },
   "file_extension": ".py",
   "mimetype": "text/x-python",
   "name": "python",
   "nbconvert_exporter": "python",
   "pygments_lexer": "ipython3",
   "version": "3.12.2"
  }
 },
 "nbformat": 4,
 "nbformat_minor": 5
}
